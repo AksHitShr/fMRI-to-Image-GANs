{
 "cells": [
  {
   "cell_type": "code",
   "execution_count": null,
   "metadata": {},
   "outputs": [],
   "source": [
    "import numpy as np\n",
    "import os \n",
    "import glob\n",
    "import bdpy\n",
    "import pickle\n",
    "from torchvision import transforms\n",
    "from PIL import Image\n",
    "import torch\n",
    "import torchvision.models as models\n",
    "from torch.autograd import Variable"
   ]
  },
  {
   "cell_type": "code",
   "execution_count": null,
   "metadata": {},
   "outputs": [],
   "source": [
    "fmri_data_table = [\n",
    "    {'subject': 'sub-01',\n",
    "     'data_file': '../data/fmri/sub-01_perceptionNaturalImageTraining_original_VC.h5',\n",
    "     'roi_selector': 'ROI_VC = 1'},\n",
    "    {'subject': 'sub-02',\n",
    "     'data_file': '../data/fmri/sub-02_perceptionNaturalImageTraining_original_VC.h5',\n",
    "     'roi_selector': 'ROI_VC = 1'},\n",
    "    {'subject': 'sub-03',\n",
    "     'data_file': '../data/fmri/sub-03_perceptionNaturalImageTraining_original_VC.h5',\n",
    "     'roi_selector': 'ROI_VC = 1'}\n",
    "]"
   ]
  },
  {
   "cell_type": "code",
   "execution_count": null,
   "metadata": {},
   "outputs": [],
   "source": [
    "image_dir = '../data/images/training'\n",
    "image_file_pattern = '*.JPEG'"
   ]
  },
  {
   "cell_type": "code",
   "execution_count": null,
   "metadata": {},
   "outputs": [],
   "source": [
    "fmri_data_bd = bdpy.BData(fmri_data_table[2]['data_file'])"
   ]
  },
  {
   "cell_type": "code",
   "execution_count": null,
   "metadata": {},
   "outputs": [],
   "source": [
    "images_list = glob.glob(os.path.join(image_dir, image_file_pattern))  # List of image files (full path)\n",
    "images_table = {os.path.splitext(os.path.basename(f))[0]: f\n",
    "                    for f in images_list}\n",
    "label_table = {os.path.splitext(os.path.basename(f))[0]: i + 1\n",
    "                   for i, f in enumerate(images_list)}  "
   ]
  },
  {
   "cell_type": "code",
   "execution_count": null,
   "metadata": {},
   "outputs": [],
   "source": [
    "fmri_labels = fmri_data_bd.get('Label')[:, 1].flatten()\n",
    "fmri_labels = ['n%08d_%d' % (int(('%f' % a).split('.')[0]),\n",
    "                                 int(('%f' % a).split('.')[1]))\n",
    "                   for a in fmri_labels]"
   ]
  },
  {
   "cell_type": "code",
   "execution_count": null,
   "metadata": {},
   "outputs": [],
   "source": [
    "fmri_data = fmri_data_bd.select(fmri_data_table[2]['roi_selector'])\n",
    "print(np.max(fmri_data), np.min(fmri_data))\n",
    "fmri_data_mean = np.mean(fmri_data, axis=0)\n",
    "fmri_data_std = np.std(fmri_data, axis=0)\n",
    "fmri_data = (fmri_data - fmri_data_mean) / fmri_data_std\n",
    "print(np.max(fmri_data), np.min(fmri_data))\n"
   ]
  },
  {
   "cell_type": "code",
   "execution_count": null,
   "metadata": {},
   "outputs": [],
   "source": [
    "import numpy as np\n",
    "\n",
    "lower_bound = -13\n",
    "upper_bound = 13 \n",
    "\n",
    "array_shape = (6000, 9919)\n",
    "\n",
    "random_array = np.random.normal(size=array_shape)\n",
    "\n",
    "scaled_random_array = (random_array - random_array.min()) / (random_array.max() - random_array.min())\n",
    "scaled_random_array = lower_bound + scaled_random_array * (upper_bound - lower_bound)\n",
    "print(np.max(scaled_random_array), np.min(scaled_random_array))"
   ]
  },
  {
   "cell_type": "code",
   "execution_count": null,
   "metadata": {},
   "outputs": [],
   "source": [
    "print(fmri_data.shape)"
   ]
  },
  {
   "cell_type": "code",
   "execution_count": null,
   "metadata": {},
   "outputs": [],
   "source": [
    "np.save('subj3_fmri',fmri_data)"
   ]
  },
  {
   "cell_type": "code",
   "execution_count": null,
   "metadata": {},
   "outputs": [],
   "source": [
    "np.save('subj3_baseline', scaled_random_array)"
   ]
  },
  {
   "cell_type": "code",
   "execution_count": null,
   "metadata": {},
   "outputs": [],
   "source": [
    "fmri_data1 = fmri_data_bd.select('ROI_V1 = 1')\n",
    "fmri_data2 = fmri_data_bd.select('ROI_V2 = 1')\n",
    "fmri_data = np.concatenate((fmri_data1, fmri_data2), axis = 1)\n",
    "print(fmri_data.shape)\n",
    "fmri_data_mean = np.mean(fmri_data, axis=0)\n",
    "fmri_data_std = np.std(fmri_data, axis=0)\n",
    "fmri_data = (fmri_data - fmri_data_mean) / fmri_data_std"
   ]
  },
  {
   "cell_type": "code",
   "execution_count": null,
   "metadata": {},
   "outputs": [],
   "source": [
    "fmri_data = fmri_data_bd.select('ROI_HVC = 1')\n",
    "fmri_data_mean = np.mean(fmri_data, axis=0)\n",
    "fmri_data_std = np.std(fmri_data, axis=0)\n",
    "fmri_data = (fmri_data - fmri_data_mean) / fmri_data_std"
   ]
  },
  {
   "cell_type": "code",
   "execution_count": null,
   "metadata": {},
   "outputs": [],
   "source": [
    "print(fmri_data.shape)"
   ]
  },
  {
   "cell_type": "code",
   "execution_count": null,
   "metadata": {},
   "outputs": [],
   "source": [
    "np.save('subj3_fmri_HVC',fmri_data)"
   ]
  },
  {
   "cell_type": "code",
   "execution_count": null,
   "metadata": {},
   "outputs": [],
   "source": [
    "fmri_data = fmri_data_bd.select('ROI_FFA = 1')\n",
    "print(fmri_data.shape)\n",
    "fmri_data_mean = np.mean(fmri_data, axis=0)\n",
    "fmri_data_std = np.std(fmri_data, axis=0)\n",
    "fmri_data = (fmri_data - fmri_data_mean) / fmri_data_std"
   ]
  },
  {
   "cell_type": "code",
   "execution_count": null,
   "metadata": {},
   "outputs": [],
   "source": [
    "np.save('subj3_fmri_FFA',fmri_data)"
   ]
  },
  {
   "cell_type": "code",
   "execution_count": null,
   "metadata": {},
   "outputs": [],
   "source": [
    "fmri_data = fmri_data_bd.select('ROI_PPA = 1')\n",
    "print(fmri_data.shape)\n",
    "fmri_data_mean = np.mean(fmri_data, axis=0)\n",
    "fmri_data_std = np.std(fmri_data, axis=0)\n",
    "fmri_data = (fmri_data - fmri_data_mean) / fmri_data_std"
   ]
  },
  {
   "cell_type": "code",
   "execution_count": null,
   "metadata": {},
   "outputs": [],
   "source": [
    "np.save('subj3_fmri_PPA',fmri_data)"
   ]
  },
  {
   "cell_type": "code",
   "execution_count": null,
   "metadata": {},
   "outputs": [],
   "source": [
    "filehandler = open('./image_fmri.pickle', 'wb')\n",
    "pickle.dump(images_table, filehandler)"
   ]
  },
  {
   "cell_type": "code",
   "execution_count": null,
   "metadata": {},
   "outputs": [],
   "source": [
    "print(images_table)"
   ]
  },
  {
   "cell_type": "code",
   "execution_count": null,
   "metadata": {},
   "outputs": [],
   "source": [
    "image_features = np.empty((0, 9216))\n",
    "\n",
    "alexnet = models.alexnet(pretrained=True)\n",
    "\n",
    "alexnet_without_fc = torch.nn.Sequential(*(list(alexnet.features.children())))\n",
    "\n",
    "alexnet_without_fc.eval()\n",
    "\n",
    "preprocess = transforms.Compose([\n",
    "    transforms.Resize(248),\n",
    "    transforms.CenterCrop(227),\n",
    "    transforms.ToTensor(),\n",
    "    # transforms.Normalize(mean=[0.485, 0.456, 0.406], std=[0.229, 0.224, 0.225]),\n",
    "])\n",
    "for i in range(len(fmri_labels)):\n",
    "    print(i)\n",
    "    image_path = images_table[fmri_labels[i]]\n",
    "    image = Image.open(image_path)\n",
    "    image = np.asarray(image)\n",
    "    \n",
    "    if image.ndim == 2:\n",
    "        img_rgb = np.zeros((image.shape[0], image.shape[1], 3), dtype=image.dtype)\n",
    "        img_rgb[:, :, 0] = image\n",
    "        img_rgb[:, :, 1] = image\n",
    "        img_rgb[:, :, 2] = image\n",
    "        image = img_rgb\n",
    "    input_tensor = preprocess(Image.fromarray(image))\n",
    "    input_batch = input_tensor.unsqueeze(0)\n",
    "    with torch.no_grad():\n",
    "        features = alexnet_without_fc(input_batch)\n",
    "\n",
    "    features = features.view(features.size(0), -1)\n",
    "    image_features = np.vstack((image_features, features))\n"
   ]
  },
  {
   "cell_type": "code",
   "execution_count": null,
   "metadata": {},
   "outputs": [],
   "source": [
    "np.save('./image_features', image_features)"
   ]
  },
  {
   "cell_type": "code",
   "execution_count": null,
   "metadata": {},
   "outputs": [],
   "source": [
    "print(image_features[0][image_features[0]> 1])"
   ]
  },
  {
   "cell_type": "code",
   "execution_count": null,
   "metadata": {},
   "outputs": [],
   "source": [
    "fmri_data_table_test = [\n",
    "    {'subject': 'sub-01',\n",
    "     'data_file': '../data/fmri/sub-01_perceptionNaturalImageTraining_original_VC.h5',\n",
    "     'roi_selector': 'ROI_VC = 1'},\n",
    "    {'subject': 'sub-02',\n",
    "     'data_file': '../data/fmri/sub-02_perceptionNaturalImageTraining_original_VC.h5',\n",
    "     'roi_selector': 'ROI_VC = 1'},\n",
    "    {'subject': 'sub-03',\n",
    "     'data_file': '../data/fmri/sub-03_perceptionNaturalImageTest_original_VC.h5',\n",
    "     'roi_selector': 'ROI_VC = 1'}\n",
    "]"
   ]
  },
  {
   "cell_type": "code",
   "execution_count": null,
   "metadata": {},
   "outputs": [],
   "source": [
    "fmri_data_bd = bdpy.BData(fmri_data_table_test[2]['data_file'])"
   ]
  },
  {
   "cell_type": "code",
   "execution_count": null,
   "metadata": {},
   "outputs": [],
   "source": [
    "image_dir_test = '../data/images/test'\n",
    "image_file_pattern = '*.JPEG'"
   ]
  },
  {
   "cell_type": "code",
   "execution_count": null,
   "metadata": {},
   "outputs": [],
   "source": [
    "images_list_test = glob.glob(os.path.join(image_dir, image_file_pattern))  # List of image files (full path)\n",
    "images_table_test = {os.path.splitext(os.path.basename(f))[0]: f\n",
    "                    for f in images_list}\n",
    "label_table_test = {os.path.splitext(os.path.basename(f))[0]: i + 1\n",
    "                   for i, f in enumerate(images_list)}  "
   ]
  },
  {
   "cell_type": "code",
   "execution_count": null,
   "metadata": {},
   "outputs": [],
   "source": [
    "fmri_labels_test = fmri_data_bd.get('Label')[:, 1].flatten()\n",
    "fmri_labels_test = ['n%08d_%d' % (int(('%f' % a).split('.')[0]),\n",
    "                                 int(('%f' % a).split('.')[1]))\n",
    "                   for a in fmri_labels_test]"
   ]
  },
  {
   "cell_type": "code",
   "execution_count": null,
   "metadata": {},
   "outputs": [],
   "source": [
    "fmri_data_test = fmri_data_bd.select(fmri_data_table[2]['roi_selector'])\n",
    "\n",
    "fmri_data_mean = np.mean(fmri_data, axis=0)\n",
    "fmri_data_std = np.std(fmri_data, axis=0)\n",
    "fmri_data_test = (fmri_data_test - fmri_data_mean) / fmri_data_std"
   ]
  },
  {
   "cell_type": "code",
   "execution_count": null,
   "metadata": {},
   "outputs": [],
   "source": [
    "np.save('subj3_fmri_test',fmri_data_test)"
   ]
  },
  {
   "cell_type": "code",
   "execution_count": null,
   "metadata": {},
   "outputs": [],
   "source": [
    "fmri_data1_test = fmri_data_bd.select('ROI_V1 = 1')\n",
    "fmri_data2_test = fmri_data_bd.select('ROI_V2 = 1')\n",
    "fmri_data_test = np.concatenate((fmri_data1_test, fmri_data2_test), axis = 1)\n",
    "print(fmri_data_test.shape)\n",
    "fmri_data_mean = np.mean(fmri_data_test, axis=0)\n",
    "fmri_data_std = np.std(fmri_data_test, axis=0)\n",
    "fmri_data_test = (fmri_data_test - fmri_data_mean) / fmri_data_std"
   ]
  },
  {
   "cell_type": "code",
   "execution_count": null,
   "metadata": {},
   "outputs": [],
   "source": [
    "np.save('subj3_fmri_test_V1V2',fmri_data_test)"
   ]
  },
  {
   "cell_type": "code",
   "execution_count": null,
   "metadata": {},
   "outputs": [],
   "source": [
    "fmri_data_test = fmri_data_bd.select('ROI_HVC = 1')\n",
    "print(fmri_data_test.shape)\n",
    "fmri_data_mean = np.mean(fmri_data_test, axis=0)\n",
    "fmri_data_std = np.std(fmri_data_test, axis=0)\n",
    "fmri_data_test = (fmri_data_test - fmri_data_mean) / fmri_data_std"
   ]
  },
  {
   "cell_type": "code",
   "execution_count": null,
   "metadata": {},
   "outputs": [],
   "source": [
    "np.save('subj3_fmri_test_HVC',fmri_data_test)"
   ]
  },
  {
   "cell_type": "code",
   "execution_count": null,
   "metadata": {},
   "outputs": [],
   "source": [
    "fmri_data_test = fmri_data_bd.select('ROI_FFA = 1')\n",
    "print(fmri_data_test.shape)\n",
    "fmri_data_mean = np.mean(fmri_data_test, axis=0)\n",
    "fmri_data_std = np.std(fmri_data_test, axis=0)\n",
    "fmri_data_test = (fmri_data_test - fmri_data_mean) / fmri_data_std"
   ]
  },
  {
   "cell_type": "code",
   "execution_count": null,
   "metadata": {},
   "outputs": [],
   "source": [
    "np.save('subj3_fmri_test_FFA',fmri_data_test)"
   ]
  },
  {
   "cell_type": "code",
   "execution_count": null,
   "metadata": {},
   "outputs": [],
   "source": [
    "fmri_data_test = fmri_data_bd.select('ROI_PPA = 1')\n",
    "print(fmri_data_test.shape)\n",
    "fmri_data_mean = np.mean(fmri_data_test, axis=0)\n",
    "fmri_data_std = np.std(fmri_data_test, axis=0)\n",
    "fmri_data_test = (fmri_data_test - fmri_data_mean) / fmri_data_std"
   ]
  },
  {
   "cell_type": "code",
   "execution_count": null,
   "metadata": {},
   "outputs": [],
   "source": [
    "np.save('subj3_fmri_test_PPA',fmri_data_test)"
   ]
  },
  {
   "cell_type": "code",
   "execution_count": null,
   "metadata": {},
   "outputs": [],
   "source": [
    "print(len(fmri_data_test))"
   ]
  }
 ],
 "metadata": {
  "kernelspec": {
   "display_name": "pytorch2",
   "language": "python",
   "name": "python3"
  },
  "language_info": {
   "codemirror_mode": {
    "name": "ipython",
    "version": 3
   },
   "file_extension": ".py",
   "mimetype": "text/x-python",
   "name": "python",
   "nbconvert_exporter": "python",
   "pygments_lexer": "ipython3",
   "version": "3.10.13"
  },
  "orig_nbformat": 4
 },
 "nbformat": 4,
 "nbformat_minor": 2
}
